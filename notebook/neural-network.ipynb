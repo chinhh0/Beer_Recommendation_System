{
 "cells": [
  {
   "cell_type": "code",
   "execution_count": 1,
   "metadata": {},
   "outputs": [],
   "source": [
    "import pandas as pd\n",
    "import numpy as np\n",
    "import keras\n",
    "import tensorflow as tf\n",
    "from sklearn.model_selection import train_test_split\n",
    "from keras.layers import Input, Embedding, Flatten, Dot, Dense, Concatenate\n",
    "from keras.optimizers import Adam\n",
    "from keras.utils.vis_utils import model_to_dot\n",
    "from sklearn.metrics import mean_absolute_error"
   ]
  },
  {
   "cell_type": "code",
   "execution_count": 2,
   "metadata": {},
   "outputs": [],
   "source": [
    "df=pd.read_csv('data1.csv', index_col=[0])"
   ]
  },
  {
   "cell_type": "code",
   "execution_count": 3,
   "metadata": {},
   "outputs": [],
   "source": [
    "data=df[['Id_rater', 'Id_beer', 'Rating']]"
   ]
  },
  {
   "cell_type": "code",
   "execution_count": 4,
   "metadata": {},
   "outputs": [],
   "source": [
    "#take number of beer and number of rater to input in model\n",
    "n_raters, n_beers = len(data.Id_rater.unique()), len(data.Id_beer.unique())\n",
    "n_latent_factors = 3"
   ]
  },
  {
   "cell_type": "code",
   "execution_count": 5,
   "metadata": {},
   "outputs": [],
   "source": [
    "def create_network(rater, beer, rating):\n",
    "    \n",
    "    #input beer and rate\n",
    "    #embedding both beer and rater\n",
    "    beer_input=Input(shape=[1],name='Beer')\n",
    "    beer_embedding=Embedding(n_beers + 1, n_latent_factors, name='Movie-Embedding')(beer_input)\n",
    "    beer_vec = Flatten(name='FlattenBeer')(beer_embedding)\n",
    "    #add a drop-off layer to prevent overfitting\n",
    "    beer_vec = keras.layers.Dropout(0.2)(beer_vec)\n",
    "    \n",
    "    rater_input=Input(shape=(1,),name='Rater')\n",
    "    rater_embedding=Embedding(n_raters + 1, n_latent_factors, name='Rater-Embedding')(rater_input)\n",
    "    rater_vec=Flatten(name='FlattenRater')(rater_embedding)\n",
    "    rater_vec = keras.layers.Dropout(0.2)(rater_vec)\n",
    "    \n",
    "    #concat beer vec and rater vector to put in neural_network\n",
    "    prod = Dot(name=\"Dot-Product\", axes=1)([beer_vec, rater_vec])\n",
    "    prod = keras.layers.Dropout(0.2)(prod)\n",
    "    \n",
    "    #3 hiddden laysers\n",
    "    dense = keras.layers.Dense(100,name='FullyConnected')(prod)\n",
    "    dropout_1 = keras.layers.Dropout(0.2,name='Dropout')(dense)\n",
    "    dense_2 = keras.layers.Dense(50,name='FullyConnected-1')(prod)\n",
    "    dropout_2 = keras.layers.Dropout(0.2,name='Dropout')(dense_2)\n",
    "    dense_3 = keras.layers.Dense(25,name='FullyConnected-2', activation='relu')(dense_2)\n",
    "    \n",
    "    #output layer\n",
    "    result = keras.layers.Dense(1, activation='relu',name='Activation')(dense_3)\n",
    "    \n",
    "    adam = Adam(lr=0.005)\n",
    "    model = keras.Model([rater_input, beer_input], result)\n",
    "    model.compile(optimizer=adam,loss= 'mean_absolute_error')\n",
    "    \n",
    "    model.fit(x=[rater, beer], y=rating, batch_size=20, epochs=20, verbose=0)\n",
    "    \n",
    "    return model"
   ]
  },
  {
   "cell_type": "code",
   "execution_count": 6,
   "metadata": {},
   "outputs": [],
   "source": [
    "train, test = train_test_split(data, test_size=0.2, random_state=10)"
   ]
  },
  {
   "cell_type": "code",
   "execution_count": 7,
   "metadata": {},
   "outputs": [],
   "source": [
    "#run model\n",
    "model=create_network(train.Id_rater, train.Id_beer, train.Rating)"
   ]
  },
  {
   "cell_type": "code",
   "execution_count": 8,
   "metadata": {},
   "outputs": [],
   "source": [
    "#predict on test set\n",
    "y_hat=model.predict([test.Id_rater, test.Id_beer])"
   ]
  },
  {
   "cell_type": "code",
   "execution_count": 9,
   "metadata": {},
   "outputs": [],
   "source": [
    "y_true=test.Rating"
   ]
  },
  {
   "cell_type": "code",
   "execution_count": 10,
   "metadata": {},
   "outputs": [
    {
     "name": "stdout",
     "output_type": "stream",
     "text": [
      "0.46765343997642134\n"
     ]
    }
   ],
   "source": [
    "#MAE was 0.46 means the prediction +- 0.46\n",
    "print(mean_absolute_error(y_true, y_hat))"
   ]
  },
  {
   "cell_type": "code",
   "execution_count": 11,
   "metadata": {},
   "outputs": [
    {
     "data": {
      "text/plain": [
       "array([[3.4975214],\n",
       "       [2.804327 ]], dtype=float32)"
      ]
     },
     "execution_count": 11,
     "metadata": {},
     "output_type": "execute_result"
    }
   ],
   "source": [
    "#try predict model with random number in n_raters range\n",
    "model.predict([pd.Series([123, 123]), pd.Series([345, 76])])"
   ]
  },
  {
   "cell_type": "code",
   "execution_count": 12,
   "metadata": {},
   "outputs": [],
   "source": [
    "def recommendation(users_id): #define a function to predict 3 top beers for a user base on neural network model\n",
    "    for user in users_id:\n",
    "        df_rater=df[df['Id_rater']==int('{}'.format(user))].sort_values(by='Rating', ascending=False)\n",
    "        #take the rater name\n",
    "        rater=df_rater['Rater'].values[0]\n",
    "        #take 3 beers that rater rated sort by their rating\n",
    "        top3beer=df_rater['Beers'].values[:3]\n",
    "        print(\"    Name of rater: {} \".format(rater))\n",
    "        print('    - Drank beers: ')\n",
    "        for beer in top3beer:\n",
    "            print(beer)\n",
    "        print('\\n')\n",
    "        print(\"   - Top 3 recommend beers : \")\n",
    "        #make a rater series to equal beer series length\n",
    "        #predict function take a pair of rater and beer to predict\n",
    "        user_pre = pd.Series([int('{}'.format(user)) for i in range(df.Id_beer.nunique())])\n",
    "        beer_pre = pd.Series(data.Id_beer.unique())\n",
    "        predictions=model.predict([user_pre, beer_pre])\n",
    "        #make a list of all rating\n",
    "        predictions = np.array([a[0] for a in predictions])\n",
    "        #take top 3 prediction beers\n",
    "        recommended_beer_ids = (-predictions).argsort()[:3]\n",
    "        for id_beer in recommended_beer_ids:\n",
    "            df_beer=df[df['Id_beer']==int('{}'.format(id_beer))]\n",
    "            beer_rec=df_beer['Beers'].values[0]\n",
    "            print(beer_rec)\n",
    "        print('\\n')\n",
    "        print('\\n')"
   ]
  },
  {
   "cell_type": "code",
   "execution_count": 13,
   "metadata": {},
   "outputs": [
    {
     "name": "stdout",
     "output_type": "stream",
     "text": [
      "    Name of rater: ClinchMtnMan \n",
      "    - Drank beers: \n",
      "Traditional Lager\n",
      "Oktoberfest\n",
      "\n",
      "\n",
      "   - Top 3 recommend beers : \n",
      "Peacemaker Pilsner\n",
      "Aecht Schlenkerla Rauchbier Märzen\n",
      "Samuel Adams Cinder Bock\n",
      "\n",
      "\n",
      "\n",
      "\n",
      "    Name of rater: sjrider \n",
      "    - Drank beers: \n",
      "Aecht Schlenkerla Rauchbier Urbock\n",
      "1516 Kellerbier\n",
      "Lager\n",
      "\n",
      "\n",
      "   - Top 3 recommend beers : \n",
      "East Side Attitude\n",
      "Hudepohl Oktoberfest Bier\n",
      "Windhoek Light\n",
      "\n",
      "\n",
      "\n",
      "\n"
     ]
    }
   ],
   "source": [
    "recommendation([12,34])"
   ]
  },
  {
   "cell_type": "code",
   "execution_count": 15,
   "metadata": {},
   "outputs": [
    {
     "name": "stdout",
     "output_type": "stream",
     "text": [
      "    Name of rater: ferrari29 \n",
      "    - Drank beers: \n",
      "Speakerswagon Pilsner\n",
      "Wisconsin Amber\n",
      "\n",
      "\n",
      "   - Top 3 recommend beers : \n",
      "Kalnapilis 7.30\n",
      "Melbourne Bitter\n",
      "Bürger Light\n",
      "\n",
      "\n",
      "\n",
      "\n",
      "    Name of rater: Jocose47 \n",
      "    - Drank beers: \n",
      "Budweiser 1933 Repeal Reserve Amber Lager\n",
      "\n",
      "\n",
      "   - Top 3 recommend beers : \n",
      "Peacemaker Pilsner\n",
      "Aecht Schlenkerla Rauchbier Märzen\n",
      "Super Awesome Lager\n",
      "\n",
      "\n",
      "\n",
      "\n",
      "    Name of rater: kajerm \n",
      "    - Drank beers: \n",
      "Tuborg Classic\n",
      "Svyturys Ekstra Draught\n",
      "\n",
      "\n",
      "   - Top 3 recommend beers : \n",
      "Dark Chocolate Lager\n",
      "Wiedemann’s Special Lager\n",
      "East Side Attitude\n",
      "\n",
      "\n",
      "\n",
      "\n"
     ]
    }
   ],
   "source": [
    "recommendation([300,578,4683])"
   ]
  },
  {
   "cell_type": "code",
   "execution_count": null,
   "metadata": {},
   "outputs": [],
   "source": []
  }
 ],
 "metadata": {
  "kernelspec": {
   "display_name": "Python 3",
   "language": "python",
   "name": "python3"
  },
  "language_info": {
   "codemirror_mode": {
    "name": "ipython",
    "version": 3
   },
   "file_extension": ".py",
   "mimetype": "text/x-python",
   "name": "python",
   "nbconvert_exporter": "python",
   "pygments_lexer": "ipython3",
   "version": "3.7.6"
  }
 },
 "nbformat": 4,
 "nbformat_minor": 4
}
